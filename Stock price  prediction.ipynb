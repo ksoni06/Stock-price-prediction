{
 "cells": [
  {
   "cell_type": "code",
   "execution_count": 1,
   "metadata": {},
   "outputs": [],
   "source": [
    "import pandas as pd\n",
    "import matplotlib.pyplot as plt\n",
    "import numpy as np"
   ]
  },
  {
   "cell_type": "code",
   "execution_count": 2,
   "metadata": {},
   "outputs": [
    {
     "data": {
      "text/html": [
       "<div>\n",
       "<style scoped>\n",
       "    .dataframe tbody tr th:only-of-type {\n",
       "        vertical-align: middle;\n",
       "    }\n",
       "\n",
       "    .dataframe tbody tr th {\n",
       "        vertical-align: top;\n",
       "    }\n",
       "\n",
       "    .dataframe thead th {\n",
       "        text-align: right;\n",
       "    }\n",
       "</style>\n",
       "<table border=\"1\" class=\"dataframe\">\n",
       "  <thead>\n",
       "    <tr style=\"text-align: right;\">\n",
       "      <th></th>\n",
       "      <th>Date</th>\n",
       "      <th>Open</th>\n",
       "      <th>High</th>\n",
       "      <th>Low</th>\n",
       "      <th>Close</th>\n",
       "      <th>Adj Close</th>\n",
       "      <th>Volume</th>\n",
       "    </tr>\n",
       "  </thead>\n",
       "  <tbody>\n",
       "    <tr>\n",
       "      <th>0</th>\n",
       "      <td>2015-09-16</td>\n",
       "      <td>29.062500</td>\n",
       "      <td>29.135000</td>\n",
       "      <td>28.860001</td>\n",
       "      <td>29.102501</td>\n",
       "      <td>26.894033</td>\n",
       "      <td>148694000</td>\n",
       "    </tr>\n",
       "    <tr>\n",
       "      <th>1</th>\n",
       "      <td>2015-09-17</td>\n",
       "      <td>28.915001</td>\n",
       "      <td>29.122499</td>\n",
       "      <td>28.430000</td>\n",
       "      <td>28.480000</td>\n",
       "      <td>26.318771</td>\n",
       "      <td>256450400</td>\n",
       "    </tr>\n",
       "    <tr>\n",
       "      <th>2</th>\n",
       "      <td>2015-09-18</td>\n",
       "      <td>28.052500</td>\n",
       "      <td>28.575001</td>\n",
       "      <td>27.967501</td>\n",
       "      <td>28.362499</td>\n",
       "      <td>26.210186</td>\n",
       "      <td>297141200</td>\n",
       "    </tr>\n",
       "    <tr>\n",
       "      <th>3</th>\n",
       "      <td>2015-09-21</td>\n",
       "      <td>28.417500</td>\n",
       "      <td>28.842501</td>\n",
       "      <td>28.415001</td>\n",
       "      <td>28.802500</td>\n",
       "      <td>26.616798</td>\n",
       "      <td>200888000</td>\n",
       "    </tr>\n",
       "    <tr>\n",
       "      <th>4</th>\n",
       "      <td>2015-09-22</td>\n",
       "      <td>28.344999</td>\n",
       "      <td>28.545000</td>\n",
       "      <td>28.129999</td>\n",
       "      <td>28.350000</td>\n",
       "      <td>26.198639</td>\n",
       "      <td>201384800</td>\n",
       "    </tr>\n",
       "  </tbody>\n",
       "</table>\n",
       "</div>"
      ],
      "text/plain": [
       "         Date       Open       High        Low      Close  Adj Close  \\\n",
       "0  2015-09-16  29.062500  29.135000  28.860001  29.102501  26.894033   \n",
       "1  2015-09-17  28.915001  29.122499  28.430000  28.480000  26.318771   \n",
       "2  2015-09-18  28.052500  28.575001  27.967501  28.362499  26.210186   \n",
       "3  2015-09-21  28.417500  28.842501  28.415001  28.802500  26.616798   \n",
       "4  2015-09-22  28.344999  28.545000  28.129999  28.350000  26.198639   \n",
       "\n",
       "      Volume  \n",
       "0  148694000  \n",
       "1  256450400  \n",
       "2  297141200  \n",
       "3  200888000  \n",
       "4  201384800  "
      ]
     },
     "execution_count": 2,
     "metadata": {},
     "output_type": "execute_result"
    }
   ],
   "source": [
    "df = pd.read_csv(\"OneDrive/Desktop/Data/AAPL.csv\")\n",
    "df.head()\n"
   ]
  },
  {
   "cell_type": "code",
   "execution_count": 3,
   "metadata": {},
   "outputs": [],
   "source": [
    "df.set_index(\"Date\", drop=True,inplace =True)"
   ]
  },
  {
   "cell_type": "code",
   "execution_count": 4,
   "metadata": {},
   "outputs": [
    {
     "data": {
      "text/plain": [
       "[<matplotlib.lines.Line2D at 0x26adb41bef0>]"
      ]
     },
     "execution_count": 4,
     "metadata": {},
     "output_type": "execute_result"
    },
    {
     "data": {
      "image/png": "[encoded data removed]",
      "text/plain": [
       "<Figure size 432x288 with 1 Axes>"
      ]
     },
     "metadata": {
      "needs_background": "light"
     },
     "output_type": "display_data"
    }
   ],
   "source": [
    "df1 = df.reset_index()[['Close']]\n",
    "plt.plot(df1)"
   ]
  },
  {
   "cell_type": "code",
   "execution_count": 5,
   "metadata": {},
   "outputs": [],
   "source": [
    "type(df1)\n",
    "df=df1"
   ]
  },
  {
   "cell_type": "code",
   "execution_count": 7,
   "metadata": {},
   "outputs": [],
   "source": [
    "df[\"returns\"] = df.Close.pct_change()\n",
    "df.head()\n",
    "df[\"log_returns\"]= np.log(1+df[\"returns\"])"
   ]
  },
  {
   "cell_type": "code",
   "execution_count": 8,
   "metadata": {},
   "outputs": [],
   "source": [
    "df.dropna(inplace=True)\n"
   ]
  },
  {
   "cell_type": "code",
   "execution_count": 9,
   "metadata": {},
   "outputs": [],
   "source": [
    "X = df[[\"Close\", \"log_returns\"]].values"
   ]
  },
  {
   "cell_type": "code",
   "execution_count": 11,
   "metadata": {},
   "outputs": [
    {
     "data": {
      "text/plain": [
       "array([[0.05282496, 0.46274201],\n",
       "       [0.05177204, 0.5324517 ],\n",
       "       [0.05571487, 0.61029678],\n",
       "       [0.05166003, 0.48580963],\n",
       "       [0.05372106, 0.58114079],\n",
       "       [0.05524442, 0.57257227],\n",
       "       [0.05459475, 0.53886688],\n",
       "       [0.04950941, 0.46925788],\n",
       "       [0.04193737, 0.42726643],\n",
       "       [0.04471529, 0.59399894]])"
      ]
     },
     "execution_count": 11,
     "metadata": {},
     "output_type": "execute_result"
    }
   ],
   "source": [
    "from sklearn.preprocessing import MinMaxScaler\n",
    "scaler = MinMaxScaler(feature_range=(0,1)).fit(X)\n",
    "X_scaled =scaler.transform(X)\n",
    "X_scaled[:10]"
   ]
  },
  {
   "cell_type": "code",
   "execution_count": 12,
   "metadata": {},
   "outputs": [
    {
     "data": {
      "text/plain": [
       "[<matplotlib.lines.Line2D at 0x26addcb06a0>]"
      ]
     },
     "execution_count": 12,
     "metadata": {},
     "output_type": "execute_result"
    },
    {
     "data": {
      "image/png": "[encoded data removed]",
      "text/plain": [
       "<Figure size 1152x288 with 1 Axes>"
      ]
     },
     "metadata": {
      "needs_background": "light"
     },
     "output_type": "display_data"
    }
   ],
   "source": [
    "plt.figure(1, figsize= (16,4))\n",
    "plt.plot(df.log_returns)"
   ]
  },
  {
   "cell_type": "code",
   "execution_count": 13,
   "metadata": {},
   "outputs": [
    {
     "data": {
      "text/plain": [
       "[0.0528249591554259,\n",
       " 0.05177203558073579,\n",
       " 0.05571487373349382,\n",
       " 0.051660032348762874,\n",
       " 0.05372105669901284]"
      ]
     },
     "execution_count": 13,
     "metadata": {},
     "output_type": "execute_result"
    }
   ],
   "source": [
    "y = [X[0] for X in X_scaled]\n",
    "y[:5]"
   ]
  },
  {
   "cell_type": "code",
   "execution_count": 62,
   "metadata": {},
   "outputs": [],
   "source": [
    "from sklearn.model_selection import train_test_split\n",
    "X_train,X_vali,y_train,y_vali = train_test_split(X_scaled,y, test_size=0.2)"
   ]
  },
  {
   "cell_type": "code",
   "execution_count": 63,
   "metadata": {},
   "outputs": [],
   "source": [
    "X_valid = X_vali[:221,:]\n",
    "y_valid = y_vali[:221]\n",
    "X_test = X_vali[222:,:]\n",
    "y_test = y_vali[222:]"
   ]
  },
  {
   "cell_type": "code",
   "execution_count": 64,
   "metadata": {},
   "outputs": [],
   "source": [
    "n=10;\n",
    "Xtrain=[]\n",
    "Ytrain=[]\n",
    "Xvalid=[]\n",
    "Yvalid=[]\n",
    "Xtest=[]\n",
    "Ytest=[]\n",
    "\n"
   ]
  },
  {
   "cell_type": "code",
   "execution_count": 65,
   "metadata": {},
   "outputs": [],
   "source": [
    "for i in range(n,len(X_train)):\n",
    "    Xtrain.append(X_train[i-n : i, : X_train.shape[1]])\n",
    "    Ytrain.append(y_train[i])\n",
    "    \n",
    "for i in range(n,len(X_test)):\n",
    "    Xtest.append(X_test[i-n : i, : X_test.shape[1]])\n",
    "    Ytest.append(y_test[i])\n",
    "    \n",
    "for i in range(n,len(X_valid)):\n",
    "    Xvalid.append(X_valid[i-n : i, : X_valid.shape[1]])\n",
    "    Yvalid.append(y_valid[i])\n",
    "    \n"
   ]
  },
  {
   "cell_type": "code",
   "execution_count": 66,
   "metadata": {},
   "outputs": [],
   "source": [
    "Xtrain, Ytrain = (np.array(Xtrain),np.array(Ytrain))\n",
    "Xtrain= np.reshape(Xtrain, (Xtrain.shape[0],Xtrain.shape[1],Xtrain.shape[2]))\n"
   ]
  },
  {
   "cell_type": "code",
   "execution_count": 68,
   "metadata": {},
   "outputs": [],
   "source": [
    "Xtest,Ytest = (np.array(Xtest),np.array(Ytest))\n",
    "Xtest= np.reshape(Xtest, (Xtest.shape[0],Xtest.shape[1],Xtest.shape[2]))"
   ]
  },
  {
   "cell_type": "code",
   "execution_count": 69,
   "metadata": {},
   "outputs": [],
   "source": [
    "Xvalid,Yvalid = (np.array(Xvalid),np.array(Yvalid))\n",
    "Xvalid= np.reshape(Xvalid, (Xvalid.shape[0],Xvalid.shape[1],Xvalid.shape[2]))"
   ]
  },
  {
   "cell_type": "code",
   "execution_count": 71,
   "metadata": {},
   "outputs": [
    {
     "data": {
      "text/plain": [
       "((30, 2), (1006, 2), (221, 2))"
      ]
     },
     "execution_count": 71,
     "metadata": {},
     "output_type": "execute_result"
    }
   ],
   "source": [
    "X_test.shape, X_train.shape, X_valid.shape"
   ]
  },
  {
   "cell_type": "code",
   "execution_count": 72,
   "metadata": {},
   "outputs": [
    {
     "data": {
      "text/plain": [
       "((996, 10, 2), (20, 10, 2), (211, 10, 2))"
      ]
     },
     "execution_count": 72,
     "metadata": {},
     "output_type": "execute_result"
    }
   ],
   "source": [
    "Xtrain.shape,Xtest.shape,Xvalid.shape"
   ]
  },
  {
   "cell_type": "code",
   "execution_count": 73,
   "metadata": {},
   "outputs": [],
   "source": [
    "## LSTM mode"
   ]
  },
  {
   "cell_type": "code",
   "execution_count": 74,
   "metadata": {},
   "outputs": [
    {
     "name": "stderr",
     "output_type": "stream",
     "text": [
      "Using TensorFlow backend.\n"
     ]
    }
   ],
   "source": [
    "from keras.models import Sequential\n",
    "from keras.layers import LSTM, Dense"
   ]
  },
  {
   "cell_type": "code",
   "execution_count": 75,
   "metadata": {},
   "outputs": [],
   "source": [
    "model=Sequential()\n",
    "model.add(LSTM(50,return_sequences=True,input_shape=(10,2)))\n",
    "model.add(LSTM(50,return_sequences=True))\n",
    "model.add(LSTM(50))\n",
    "model.add(Dense(1))\n",
    "model.compile(loss='mean_squared_error',optimizer='adam')\n"
   ]
  },
  {
   "cell_type": "code",
   "execution_count": 77,
   "metadata": {},
   "outputs": [
    {
     "name": "stdout",
     "output_type": "stream",
     "text": [
      "Train on 996 samples, validate on 211 samples\n",
      "Epoch 1/30\n",
      "996/996 [==============================] - 1s 1ms/step - loss: 0.0342 - val_loss: 0.0303\n",
      "Epoch 2/30\n",
      "996/996 [==============================] - 1s 1ms/step - loss: 0.0343 - val_loss: 0.0305\n",
      "Epoch 3/30\n",
      "996/996 [==============================] - 1s 1ms/step - loss: 0.0339 - val_loss: 0.0303\n",
      "Epoch 4/30\n",
      "996/996 [==============================] - 1s 1ms/step - loss: 0.0340 - val_loss: 0.0310\n",
      "Epoch 5/30\n",
      "996/996 [==============================] - 1s 1ms/step - loss: 0.0339 - val_loss: 0.0304\n",
      "Epoch 6/30\n",
      "996/996 [==============================] - 1s 1ms/step - loss: 0.0342 - val_loss: 0.0303\n",
      "Epoch 7/30\n",
      "996/996 [==============================] - 1s 1ms/step - loss: 0.0338 - val_loss: 0.0304\n",
      "Epoch 8/30\n",
      "996/996 [==============================] - 1s 1ms/step - loss: 0.0338 - val_loss: 0.0306\n",
      "Epoch 9/30\n",
      "996/996 [==============================] - 1s 1ms/step - loss: 0.0338 - val_loss: 0.0309\n",
      "Epoch 10/30\n",
      "996/996 [==============================] - 1s 1ms/step - loss: 0.0339 - val_loss: 0.0303\n",
      "Epoch 11/30\n",
      "996/996 [==============================] - 1s 1ms/step - loss: 0.0339 - val_loss: 0.0305\n",
      "Epoch 12/30\n",
      "996/996 [==============================] - 1s 1ms/step - loss: 0.0337 - val_loss: 0.0304\n",
      "Epoch 13/30\n",
      "996/996 [==============================] - 1s 1ms/step - loss: 0.0342 - val_loss: 0.0303\n",
      "Epoch 14/30\n",
      "996/996 [==============================] - 1s 1ms/step - loss: 0.0341 - val_loss: 0.0305\n",
      "Epoch 15/30\n",
      "996/996 [==============================] - 1s 1ms/step - loss: 0.0338 - val_loss: 0.0320\n",
      "Epoch 16/30\n",
      "996/996 [==============================] - 1s 1ms/step - loss: 0.0338 - val_loss: 0.0306\n",
      "Epoch 17/30\n",
      "996/996 [==============================] - 1s 849us/step - loss: 0.0339 - val_loss: 0.0307\n",
      "Epoch 18/30\n",
      "996/996 [==============================] - 1s 849us/step - loss: 0.0338 - val_loss: 0.0305\n",
      "Epoch 19/30\n",
      "996/996 [==============================] - 1s 891us/step - loss: 0.0339 - val_loss: 0.0308\n",
      "Epoch 20/30\n",
      "996/996 [==============================] - 1s 899us/step - loss: 0.0337 - val_loss: 0.0307\n",
      "Epoch 21/30\n",
      "996/996 [==============================] - 1s 900us/step - loss: 0.0338 - val_loss: 0.0304\n",
      "Epoch 22/30\n",
      "996/996 [==============================] - 1s 907us/step - loss: 0.0337 - val_loss: 0.0305\n",
      "Epoch 23/30\n",
      "996/996 [==============================] - 1s 884us/step - loss: 0.0340 - val_loss: 0.0305\n",
      "Epoch 24/30\n",
      "996/996 [==============================] - 1s 1ms/step - loss: 0.0339 - val_loss: 0.0316\n",
      "Epoch 25/30\n",
      "996/996 [==============================] - 2s 2ms/step - loss: 0.0340 - val_loss: 0.0308\n",
      "Epoch 26/30\n",
      "996/996 [==============================] - 1s 1ms/step - loss: 0.0338 - val_loss: 0.0319\n",
      "Epoch 27/30\n",
      "996/996 [==============================] - 1s 832us/step - loss: 0.0339 - val_loss: 0.0304\n",
      "Epoch 28/30\n",
      "996/996 [==============================] - 1s 860us/step - loss: 0.0338 - val_loss: 0.0303\n",
      "Epoch 29/30\n",
      "996/996 [==============================] - 1s 865us/step - loss: 0.0340 - val_loss: 0.0306\n",
      "Epoch 30/30\n",
      "996/996 [==============================] - 1s 898us/step - loss: 0.0338 - val_loss: 0.0314\n"
     ]
    },
    {
     "data": {
      "text/plain": [
       "<keras.callbacks.callbacks.History at 0x26ae81475f8>"
      ]
     },
     "execution_count": 77,
     "metadata": {},
     "output_type": "execute_result"
    }
   ],
   "source": [
    "model.fit(Xtrain,Ytrain,epochs= 30, validation_data=(Xvalid,Yvalid),batch_size= 20,verbose=1)"
   ]
  },
  {
   "cell_type": "code",
   "execution_count": 80,
   "metadata": {},
   "outputs": [],
   "source": [
    "train_pred = model.predict(Xtrain)\n",
    "test_pred =  model.predict(Xtest)\n",
    "train_pred = np.c_[train_pred,np.zeros(train_pred.shape)]\n",
    "test_pred = np.c_[test_pred,np.zeros(test_pred.shape)]\n"
   ]
  },
  {
   "cell_type": "code",
   "execution_count": 81,
   "metadata": {},
   "outputs": [],
   "source": [
    "trainPredict = scaler.inverse_transform(train_pred)\n",
    "trainpred = [x[0] for x in trainPredict]\n",
    "testPredict = scaler.inverse_transform(test_pred)\n",
    "testpred = [x[0] for x in testPredict]"
   ]
  },
  {
   "cell_type": "code",
   "execution_count": 83,
   "metadata": {},
   "outputs": [
    {
     "name": "stdout",
     "output_type": "stream",
     "text": [
      "[48.94145729121086, 49.04358897595361, 49.052704966310834, 48.91031459376285, 48.84512245841727, 48.72276997054723, 48.68894336057887, 48.95578479447934, 48.96654039930067, 48.785738815285804]\n",
      "[48.94145729121086, 49.04358897595361, 49.052704966310834, 48.91031459376285, 48.84512245841727, 48.72276997054723, 48.68894336057887, 48.95578479447934, 48.96654039930067, 48.785738815285804, 48.555412892559026, 48.55105943346468, 48.91715075508326, 48.861327370134, 48.914511740727754, 48.98559717593214, 48.923797346374364, 48.79753372947839, 48.51257505461806, 48.5447404324874]\n"
     ]
    }
   ],
   "source": [
    "print(testpred[:10])\n",
    "print(testpred)"
   ]
  },
  {
   "cell_type": "code",
   "execution_count": 84,
   "metadata": {},
   "outputs": [],
   "source": [
    "from sklearn.metrics import mean_squared_error"
   ]
  },
  {
   "cell_type": "code",
   "execution_count": 94,
   "metadata": {},
   "outputs": [
    {
     "name": "stdout",
     "output_type": "stream",
     "text": [
      "Root mean Square error= \n"
     ]
    },
    {
     "data": {
      "text/plain": [
       "48.651253415653166"
      ]
     },
     "execution_count": 94,
     "metadata": {},
     "output_type": "execute_result"
    }
   ],
   "source": [
    "print(\"Root mean Square error= \")\n",
    "testScore = mean_squared_error([x[0][0] for x in Xtest], testpred,squared=False)\n",
    "testScore"
   ]
  },
  {
   "cell_type": "code",
   "execution_count": null,
   "metadata": {},
   "outputs": [],
   "source": []
  },
  {
   "cell_type": "code",
   "execution_count": 87,
   "metadata": {},
   "outputs": [],
   "source": []
  },
  {
   "cell_type": "code",
   "execution_count": 89,
   "metadata": {},
   "outputs": [],
   "source": []
  },
  {
   "cell_type": "code",
   "execution_count": null,
   "metadata": {},
   "outputs": [],
   "source": []
  },
  {
   "cell_type": "code",
   "execution_count": 91,
   "metadata": {},
   "outputs": [
    {
     "data": {
      "text/plain": [
       "2"
      ]
     },
     "execution_count": 91,
     "metadata": {},
     "output_type": "execute_result"
    }
   ],
   "source": []
  },
  {
   "cell_type": "code",
   "execution_count": null,
   "metadata": {},
   "outputs": [],
   "source": []
  }
 ],
 "metadata": {
  "kernelspec": {
   "display_name": "Python 3",
   "language": "python",
   "name": "python3"
  },
  "language_info": {
   "codemirror_mode": {
    "name": "ipython",
    "version": 3
   },
   "file_extension": ".py",
   "mimetype": "text/x-python",
   "name": "python",
   "nbconvert_exporter": "python",
   "pygments_lexer": "ipython3",
   "version": "3.6.10"
  }
 },
 "nbformat": 4,
 "nbformat_minor": 4
}
